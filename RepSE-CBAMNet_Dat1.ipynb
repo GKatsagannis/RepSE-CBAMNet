{
  "cells": [
    {
      "cell_type": "code",
      "execution_count": null,
      "metadata": {
        "id": "B7VJ6psRroK4"
      },
      "outputs": [],
      "source": [
        "from google.colab import drive\n",
        "drive.mount('/content/drive')"
      ]
    },
    {
      "cell_type": "code",
      "execution_count": null,
      "metadata": {
        "id": "Pt665qZ9WABI"
      },
      "outputs": [],
      "source": [
        "drive.mount(\"/content/drive\", force_remount=True)"
      ]
    },
    {
      "cell_type": "code",
      "execution_count": null,
      "metadata": {
        "id": "8laq-8kUGrQZ"
      },
      "outputs": [],
      "source": [
        "!nvidia-smi"
      ]
    },
    {
      "cell_type": "code",
      "execution_count": null,
      "metadata": {
        "id": "72oewiuFG6T9"
      },
      "outputs": [],
      "source": [
        "!pip install -r /content/drive/MyDrive/RGELAN/requirements.txt"
      ]
    },
    {
      "cell_type": "markdown",
      "metadata": {
        "id": "SK7zEN5grCy2"
      },
      "source": [
        "# Training RepSE-CBAMNET on brain dataset"
      ]
    },
    {
      "cell_type": "code",
      "execution_count": null,
      "metadata": {
        "id": "wbF_HuRyQVov"
      },
      "outputs": [],
      "source": [
        "!python /content/drive/MyDrive/RGELAN/train.py \\\n",
        "--batch 8 --epochs 150 --img 640 --device 0 --min-items 0 --close-mosaic 15 \\\n",
        "--data /content/drive/MyDrive/RGELAN/data/coco.yaml \\\n",
        "--cfg /content/drive/MyDrive/RGELAN/models/detect/ne-rcs-gelan-c-v39.yaml \\\n",
        "--hyp /content/drive/MyDrive/RGELAN/data/hyps/hyp.scratch-high.yaml\n"
      ]
    },
    {
      "cell_type": "markdown",
      "metadata": {
        "id": "8XS2aMW46yIB"
      },
      "source": [
        "**YOLOV9c on Brain**"
      ]
    },
    {
      "cell_type": "code",
      "execution_count": null,
      "metadata": {
        "id": "RuJc8M__68i5"
      },
      "outputs": [],
      "source": [
        "!pip install ultralytics"
      ]
    },
    {
      "cell_type": "code",
      "execution_count": null,
      "metadata": {
        "id": "zeLrT-QYLzkp"
      },
      "outputs": [],
      "source": [
        "from ultralytics import YOLO\n",
        "\n",
        "from IPython.display import display, Image"
      ]
    },
    {
      "cell_type": "code",
      "execution_count": null,
      "metadata": {
        "colab": {
          "background_save": true
        },
        "id": "1IJJnH2kLzwA"
      },
      "outputs": [],
      "source": [
        "import os\n",
        "import shutil\n",
        "import random\n",
        "\n",
        "!pip install tqdm --upgrade\n",
        "from tqdm.notebook import tqdm"
      ]
    },
    {
      "cell_type": "code",
      "execution_count": null,
      "metadata": {
        "id": "t-IlJd8JLzy-"
      },
      "outputs": [],
      "source": [
        "ROOT_DIR = '/content/drive/MyDrive/'"
      ]
    },
    {
      "cell_type": "code",
      "execution_count": null,
      "metadata": {
        "id": "L_JDelI3Lz2W"
      },
      "outputs": [],
      "source": [
        "# Load a model\n",
        "model = YOLO(\"yolov9c.pt\")  # load pre trained model\n",
        "\n",
        "# Use the model\n",
        "results = model.train(data=os.path.join(ROOT_DIR, \"coco.yaml\"), epochs=150)  # train the model"
      ]
    }
  ],
  "metadata": {
    "accelerator": "GPU",
    "colab": {
      "gpuType": "T4",
      "provenance": []
    },
    "kernelspec": {
      "display_name": "Python 3",
      "name": "python3"
    },
    "language_info": {
      "name": "python"
    }
  },
  "nbformat": 4,
  "nbformat_minor": 0
}